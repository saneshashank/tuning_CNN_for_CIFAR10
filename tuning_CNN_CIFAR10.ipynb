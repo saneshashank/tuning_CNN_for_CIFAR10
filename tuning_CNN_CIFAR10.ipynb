{
  "nbformat": 4,
  "nbformat_minor": 0,
  "metadata": {
    "colab": {
      "provenance": []
    },
    "kernelspec": {
      "name": "python3",
      "display_name": "Python 3"
    },
    "language_info": {
      "name": "python"
    }
  },
  "cells": [
    {
      "cell_type": "code",
      "execution_count": 1,
      "metadata": {
        "id": "zViY-I2ywghz"
      },
      "outputs": [],
      "source": [
        "import torch\n",
        "from torch.utils.data import DataLoader\n",
        "from torchvision import datasets, transforms"
      ]
    },
    {
      "cell_type": "code",
      "source": [
        "root = \"./data\"\n",
        "\n",
        "to_tensor = transforms.Compose([\n",
        "    transforms.ToTensor(),  # converts PIL -> tensor [C,H,W] in [0,1]\n",
        "])\n",
        "\n",
        "train_raw = datasets.CIFAR10(root=root, train=True, download=True, transform=to_tensor)\n",
        "test_raw  = datasets.CIFAR10(root=root, train=False, download=True, transform=to_tensor)\n",
        "\n",
        "# A simple loader to iterate the training set for statistics\n",
        "stats_loader = DataLoader(train_raw, batch_size=512, shuffle=False, num_workers=2, pin_memory=True)\n",
        "len(train_raw), len(test_raw)"
      ],
      "metadata": {
        "colab": {
          "base_uri": "https://localhost:8080/"
        },
        "id": "48Kvju3iy6NN",
        "outputId": "cab9c5e5-6249-4d2f-a660-3eb6d6b1aae7"
      },
      "execution_count": null,
      "outputs": [
        {
          "output_type": "stream",
          "name": "stderr",
          "text": [
            "100%|██████████| 170M/170M [00:03<00:00, 43.2MB/s]\n"
          ]
        },
        {
          "output_type": "execute_result",
          "data": {
            "text/plain": [
              "(50000, 10000)"
            ]
          },
          "metadata": {},
          "execution_count": 2
        }
      ]
    },
    {
      "cell_type": "markdown",
      "source": [
        "### **Compute per-channel mean & std (on the training set)**"
      ],
      "metadata": {
        "id": "lae7YP7nziV1"
      }
    },
    {
      "cell_type": "code",
      "source": [
        "# Step 2: Compute mean and std over the training set (per channel)\n",
        "import math\n",
        "\n",
        "sum_ = torch.zeros(3)\n",
        "sum_sq = torch.zeros(3)\n",
        "num_pixels = 0\n",
        "\n",
        "for imgs, _ in stats_loader:\n",
        "    # imgs shape: [B, 3, 32, 32], values in [0,1]\n",
        "    b, c, h, w = imgs.shape\n",
        "    imgs = imgs.view(b, c, -1)         # [B, 3, 1024]\n",
        "    sum_   += imgs.sum(dim=(0, 2))     # per-channel sum\n",
        "    sum_sq += (imgs ** 2).sum(dim=(0, 2))\n",
        "    num_pixels += b * h * w\n",
        "\n",
        "mean = sum_ / num_pixels\n",
        "std  = (sum_sq / num_pixels - mean ** 2).sqrt()\n",
        "\n",
        "print(\"CIFAR-10 train mean :\", mean.tolist())\n",
        "print(\"CIFAR-10 train std  :\", std.tolist())\n"
      ],
      "metadata": {
        "colab": {
          "base_uri": "https://localhost:8080/"
        },
        "id": "rqNXZcpxzhEj",
        "outputId": "131732e1-8bdd-4a7c-e1a6-3c4f6a703c8a"
      },
      "execution_count": null,
      "outputs": [
        {
          "output_type": "stream",
          "name": "stdout",
          "text": [
            "CIFAR-10 train mean : [0.4913996756076813, 0.48215851187705994, 0.4465310275554657]\n",
            "CIFAR-10 train std  : [0.24703219532966614, 0.24348489940166473, 0.2615877091884613]\n"
          ]
        }
      ]
    },
    {
      "cell_type": "markdown",
      "source": [
        "### **Define & Apply Transforms using the computed stats**"
      ],
      "metadata": {
        "id": "kPX11jGsz3cL"
      }
    },
    {
      "cell_type": "code",
      "source": [
        "# Step 3: Build your final train/test transforms using the computed mean/std\n",
        "MEAN = mean.tolist()\n",
        "STD  = std.tolist()\n",
        "\n",
        "train_tfms = transforms.Compose([\n",
        "    transforms.RandomCrop(32, padding=4),\n",
        "    transforms.RandomHorizontalFlip(),\n",
        "    transforms.ToTensor(),\n",
        "    transforms.Normalize(MEAN, STD),\n",
        "])\n",
        "\n",
        "test_tfms = transforms.Compose([\n",
        "    transforms.ToTensor(),\n",
        "    transforms.Normalize(MEAN, STD),\n",
        "])\n",
        "\n",
        "# Create the final datasets/loaders\n",
        "train_ds = datasets.CIFAR10(root=root, train=True, download=False, transform=train_tfms)\n",
        "test_ds  = datasets.CIFAR10(root=root, train=False, download=False, transform=test_tfms)\n",
        "\n",
        "train_loader = DataLoader(train_ds, batch_size=128, shuffle=True, num_workers=2, pin_memory=True)\n",
        "test_loader  = DataLoader(test_ds, batch_size=128, shuffle=False, num_workers=2, pin_memory=True)\n",
        "\n",
        "print(f\"Train batches: {len(train_loader)} | Test batches: {len(test_loader)}\")\n"
      ],
      "metadata": {
        "colab": {
          "base_uri": "https://localhost:8080/"
        },
        "id": "VgIXqckiz5YN",
        "outputId": "9263909e-3887-49c3-b839-78d6116c6345"
      },
      "execution_count": null,
      "outputs": [
        {
          "output_type": "stream",
          "name": "stdout",
          "text": [
            "Train batches: 391 | Test batches: 79\n"
          ]
        }
      ]
    },
    {
      "cell_type": "markdown",
      "source": [
        "### **Albumentations Transforms**\n",
        "\n",
        "(https://github.com/albumentations-team/albumentations)\n",
        "\n",
        "It defines train_tfms using A.Compose to chain together several augmentation techniques from albumentations.\n",
        "\n",
        "It defines train_tfms using `A.Compose` to chain together several augmentation techniques from albumentations\n",
        "\n",
        "1. `A.HorizontalFlip`: Randomly flips images horizontally.\n",
        "2. `A.ShiftScaleRotate`: Applies random affine transformations (shifting, scaling, and rotating).\n",
        "3. `A.CoarseDropout`: (this is **CutOut**) Randomly drops rectangular regions from the image and fills them with the calculated mean value.\n",
        "4. `A.Normalize`: Normalizes the pixel values using the pre-computed `MEAN` and `STD`.\n",
        "5. `ToTensorV2`: Converts the augmented image (which is a NumPy array at this point in the albumentations pipeline) into a PyTorch tensor and moves the channel dimension to the front (C, H, W).\n",
        "\n",
        "`AlbuCIFAR` Dataset Class: It creates a custom Dataset class AlbuCIFAR that wraps the standard torchvision.datasets.CIFAR10. T**his is necessary because albumentations works with NumPy arrays in HWC (Height, Width, Channel) format, while torchvision datasets return PIL Images (which are converted to tensors in C, H, W format by their default ToTensor)**. The __getitem__ method converts the PIL Image to a NumPy array before applying the albumentations transform.\n",
        "\n",
        "\n",
        "\n"
      ],
      "metadata": {
        "id": "WTn2MNnfsQh0"
      }
    },
    {
      "cell_type": "code",
      "source": [
        "# --- Install (Colab) ---\n",
        "!pip -q install albumentations==1.4.7\n",
        "\n",
        "# --- Imports ---\n",
        "import albumentations as A\n",
        "from albumentations.pytorch import ToTensorV2\n",
        "from torchvision import datasets\n",
        "from torch.utils.data import DataLoader, Dataset\n",
        "import numpy as np\n",
        "import cv2\n",
        "import torch\n",
        "\n",
        "root = \"./data\"\n",
        "\n",
        "# Reuse the stats you computed earlier\n",
        "MEAN = mean.tolist()   # e.g. [0.4914, 0.4822, 0.4465]\n",
        "STD  = std.tolist()    # e.g. [0.2470, 0.2435, 0.2616]\n",
        "\n",
        "# Albumentations' CoarseDropout operates on the raw image (uint8 0..255),\n",
        "# so convert per-channel mean to 0..255 for fill_value:\n",
        "fill_value_255 = tuple(int(m * 255) for m in MEAN)   # (R_mean*255, G_mean*255, B_mean*255)\n",
        "\n",
        "# --- Albumentations transforms ---\n",
        "train_tfms = A.Compose([\n",
        "    A.HorizontalFlip(p=0.5),\n",
        "    A.ShiftScaleRotate(shift_limit=0.0625, scale_limit=0.10, rotate_limit=10,\n",
        "                       border_mode=cv2.BORDER_REFLECT_101, p=0.7),\n",
        "    A.CoarseDropout(max_holes=1, max_height=16, max_width=16,\n",
        "                    min_holes=1, min_height=16, min_width=16,\n",
        "                    fill_value=fill_value_255, mask_fill_value=None, p=0.5),\n",
        "    A.Normalize(mean=MEAN, std=STD),\n",
        "    ToTensorV2(),\n",
        "])\n",
        "\n",
        "test_tfms = A.Compose([\n",
        "    A.Normalize(mean=MEAN, std=STD),\n",
        "    ToTensorV2(),\n",
        "])\n",
        "\n",
        "# --- TorchVision dataset wrapped for Albumentations ---\n",
        "class AlbuCIFAR(Dataset):\n",
        "    def __init__(self, root, train=True, transform=None, download=False):\n",
        "        self.ds = datasets.CIFAR10(root=root, train=train, download=download)\n",
        "        self.transform = transform\n",
        "\n",
        "    def __len__(self):\n",
        "        return len(self.ds)\n",
        "\n",
        "    def __getitem__(self, idx):\n",
        "        img, label = self.ds[idx]         # PIL Image (RGB)\n",
        "        img = np.array(img)               # -> HWC uint8 RGB\n",
        "        if self.transform is not None:\n",
        "            img = self.transform(image=img)[\"image\"]  # -> CHW float tensor\n",
        "        return img, label\n",
        "\n",
        "# --- Datasets & Loaders ---\n",
        "train_ds = AlbuCIFAR(root=root, train=True,  transform=train_tfms, download=True)\n",
        "test_ds  = AlbuCIFAR(root=root, train=False, transform=test_tfms,  download=True)\n",
        "\n",
        "train_loader = DataLoader(train_ds, batch_size=128, shuffle=True,  num_workers=2, pin_memory=True)\n",
        "test_loader  = DataLoader(test_ds,  batch_size=128, shuffle=False, num_workers=2, pin_memory=True)\n",
        "\n",
        "print(f\"Train batches: {len(train_loader)} | Test batches: {len(test_loader)}\")\n",
        "\n",
        "# (Optional) quick sanity check\n",
        "xb, yb = next(iter(train_loader))\n",
        "print(\"Train batch:\", xb.shape, xb.dtype, xb.min().item(), xb.max().item())  # expect [B,3,32,32], float32"
      ],
      "metadata": {
        "colab": {
          "base_uri": "https://localhost:8080/"
        },
        "id": "JkIHY-EqUxRB",
        "outputId": "8de058bd-5d61-4dd3-8a05-bd2b1f7ddd8b"
      },
      "execution_count": null,
      "outputs": [
        {
          "output_type": "stream",
          "name": "stdout",
          "text": [
            "\u001b[?25l   \u001b[90m━━━━━━━━━━━━━━━━━━━━━━━━━━━━━━━━━━━━━━━━\u001b[0m \u001b[32m0.0/155.7 kB\u001b[0m \u001b[31m?\u001b[0m eta \u001b[36m-:--:--\u001b[0m\r\u001b[2K   \u001b[90m━━━━━━━━━━━━━━━━━━━━━━━━━━━━━━━━━━━━━━━━\u001b[0m \u001b[32m155.7/155.7 kB\u001b[0m \u001b[31m8.3 MB/s\u001b[0m eta \u001b[36m0:00:00\u001b[0m\n",
            "\u001b[?25hTrain batches: 391 | Test batches: 79\n",
            "Train batch: torch.Size([128, 3, 32, 32]) torch.float32 -1.989212989807129 2.126791000366211\n"
          ]
        }
      ]
    },
    {
      "cell_type": "markdown",
      "source": [
        "**Quick sanity check**"
      ],
      "metadata": {
        "id": "_DQmSAAB0YlA"
      }
    },
    {
      "cell_type": "code",
      "source": [
        "# Peek a batch and verify normalization stats roughly centered\n",
        "imgs, labels = next(iter(train_loader))\n",
        "print(\"Batch shape:\", imgs.shape, \"| dtype:\", imgs.dtype, \"| range ~\", (imgs.min().item(), imgs.max().item()))\n",
        "print(\"Per-channel mean (batch):\", imgs.mean(dim=(0,2,3)))\n",
        "print(\"Per-channel std  (batch):\", imgs.std(dim=(0,2,3)))"
      ],
      "metadata": {
        "colab": {
          "base_uri": "https://localhost:8080/"
        },
        "id": "9Yt636DR0XAc",
        "outputId": "8644fe47-3e31-4825-9934-4d9f8f4e8c10"
      },
      "execution_count": null,
      "outputs": [
        {
          "output_type": "stream",
          "name": "stdout",
          "text": [
            "Batch shape: torch.Size([128, 3, 32, 32]) | dtype: torch.float32 | range ~ (-1.989212989807129, 2.126791000366211)\n",
            "Per-channel mean (batch): tensor([ 0.0016, -0.0157, -0.0408])\n",
            "Per-channel std  (batch): tensor([0.9273, 0.9153, 0.9172])\n"
          ]
        }
      ]
    },
    {
      "cell_type": "markdown",
      "source": [
        "**Helper: denormalize + show grid**"
      ],
      "metadata": {
        "id": "NgxRUkCT0ukV"
      }
    },
    {
      "cell_type": "code",
      "source": [
        "# Utils to denormalize and visualize a small grid of images\n",
        "import math\n",
        "import torch\n",
        "import matplotlib.pyplot as plt\n",
        "\n",
        "# Use MEAN/STD computed earlier (lists) and make tensors for broadcasting\n",
        "_MEAN = torch.tensor(MEAN).view(1, 3, 1, 1)\n",
        "_STD  = torch.tensor(STD).view(1, 3, 1, 1)\n",
        "\n",
        "def denorm(imgs):\n",
        "    \"\"\"imgs: tensor [B,C,H,W] normalized with MEAN/STD -> return in [0,1]\"\"\"\n",
        "    x = imgs.clone().cpu()\n",
        "    x = x * _STD + _MEAN\n",
        "    return x.clamp(0.0, 1.0)\n",
        "\n",
        "def show_batch(images, labels, class_names, n=16, cols=8):\n",
        "    \"\"\"\n",
        "    Show n images with titles (class names) in a grid.\n",
        "    images: [B,C,H,W] tensor (normalized)\n",
        "    labels: [B] tensor\n",
        "    \"\"\"\n",
        "    n = min(n, images.size(0))\n",
        "    rows = math.ceil(n / cols)\n",
        "    imgs = denorm(images[:n])\n",
        "\n",
        "    plt.figure(figsize=(1.8*cols, 1.8*rows))\n",
        "    for i in range(n):\n",
        "        img = imgs[i].permute(1, 2, 0).numpy()  # HWC\n",
        "        ax = plt.subplot(rows, cols, i+1)\n",
        "        ax.imshow(img)\n",
        "        ax.set_title(class_names[int(labels[i])], fontsize=9)\n",
        "        ax.axis(\"off\")\n",
        "    plt.tight_layout()\n",
        "    plt.show()\n"
      ],
      "metadata": {
        "id": "W1gLM_Lz0wvl"
      },
      "execution_count": null,
      "outputs": []
    },
    {
      "cell_type": "markdown",
      "source": [
        "**View a random training batch (with augmentations)**"
      ],
      "metadata": {
        "id": "Mj-YegKm00-v"
      }
    },
    {
      "cell_type": "code",
      "source": [
        "# CIFAR-10 class names (or use train_ds.classes)\n",
        "class_names = train_ds.classes if hasattr(train_ds, \"classes\") else [\n",
        "    \"airplane\",\"automobile\",\"bird\",\"cat\",\"deer\",\"dog\",\"frog\",\"horse\",\"ship\",\"truck\"\n",
        "]\n",
        "\n",
        "# Grab a shuffled batch from the training loader and visualize 16 images\n",
        "train_images, train_labels = next(iter(train_loader))\n",
        "show_batch(train_images, train_labels, class_names, n=16, cols=8)"
      ],
      "metadata": {
        "colab": {
          "base_uri": "https://localhost:8080/",
          "height": 291
        },
        "id": "-32OoQet08gw",
        "outputId": "7b5c422c-c7b8-4172-9543-21c245a1878c"
      },
      "execution_count": null,
      "outputs": [
        {
          "output_type": "display_data",
          "data": {
            "text/plain": [
              "<Figure size 1440x360 with 16 Axes>"
            ],
            "image/png": "[encoded data removed]"
          },
          "metadata": {}
        }
      ]
    },
    {
      "cell_type": "markdown",
      "source": [
        "**View a random test batch (no augmentations)**"
      ],
      "metadata": {
        "id": "RLbEvNPc1EfH"
      }
    },
    {
      "cell_type": "code",
      "source": [
        "test_images, test_labels = next(iter(test_loader))\n",
        "show_batch(test_images, test_labels, class_names, n=16, cols=8)\n"
      ],
      "metadata": {
        "colab": {
          "base_uri": "https://localhost:8080/",
          "height": 390
        },
        "id": "QwicRR8T1GWy",
        "outputId": "daa3eca6-c3dd-42eb-a1eb-20619751f2d1"
      },
      "execution_count": null,
      "outputs": [
        {
          "output_type": "display_data",
          "data": {
            "text/plain": [
              "<Figure size 1440x360 with 16 Axes>"
            ],
            "image/png": "[encoded data removed]"
          },
          "metadata": {}
        }
      ]
    },
    {
      "cell_type": "markdown",
      "source": [
        "### **Depthwise Seperable Convolutions**\n",
        "\n",
        "Imagine a standard 2D convolution operating on an input image with multiple channels (like an RGB image with 3 channels). A standard convolution uses a set of 3D filters (kernel size x kernel size x number of input channels). Each filter convolves across all input channels simultaneously to produce a single output channel. If you want, say, 64 output channels, you need 64 such 3D filters.\n",
        "\n",
        "This involves a lot of multiplication and addition operations, especially as the number of input and output channels increases. The computational cost is roughly proportional to:\n",
        "\n",
        "\n",
        "kernel_size * kernel_size * in_channels * out_channels * spatial_output_size\n",
        "\n",
        "Now, let's look at **Depthwise Separable Convolution**. It splits the standard convolution into two separate steps:\n",
        "\n",
        "* **Depthwise Convolution**: This step applies a single 2D filter to each input channel independently. If you have an input with in_channels, you'll have in_channels separate 2D filters. Each filter only \"sees\" one input channel. This results in an output with the same number of channels as the input (in_channels).\n",
        "\n",
        "The computational cost here is roughly proportional to:\n",
        "\n",
        "kernel_size * kernel_size * in_channels * spatial_output_size\n",
        "\n",
        "* **Pointwise Convolution**: This step is a standard 1x1 convolution. It takes the output from the depthwise convolution (which has in_channels) and uses 1x1 filters to combine the information across these channels. If you want out_channels, you'll use out_channels of these 1x1 filters. Each 1x1 filter operates on all in_channels at a single spatial location to produce one value in the output channel.\n",
        "\n",
        "The computational cost here is roughly proportional to:\n",
        "\n",
        "1 * 1 * in_channels * out_channels * spatial_output_size\n",
        "\n",
        "Why is it more efficient?\n",
        "\n",
        "The total cost of a depthwise separable convolution is the sum of the costs of the depthwise and pointwise steps:\n",
        "\n",
        "`(kernel_size * kernel_size * in_channels * spatial_output_size) + (1 * 1 * in_channels * out_channels * spatial_output_size)`\n",
        "\n",
        "If you compare this to the cost of a standard convolution:\n",
        "\n",
        "`(kernel_size * kernel_size * in_channels * out_channels * spatial_output_size)`\n",
        "\n",
        "You can see that the standard convolution's cost includes a factor of `kernel_size * kernel_size * out_channels`, while the depthwise separable convolution replaces this with `(kernel_size * kernel_size) + out_channels` (ignoring the spatial size and in_channels for comparison).\n",
        "\n",
        "Since `out_channels` is typically much larger than `kernel_size * kernel_size`, **the depthwise separable convolution significantly reduces the number of multiplications and additions**. This makes models using depthwise separable convolutions (like MobileNet) much more efficient in terms of computation and the number of parameters, making them suitable for devices with limited resources.\n",
        "\n",
        "In essence, depthwise separable convolution achieves a similar effect to a standard convolution but by separating the spatial filtering (depthwise) from the channel mixing (pointwise), leading to substantial computational savings.\n",
        "\n",
        "Assume:\n",
        "\n",
        "Input channels (in_channels) = 3\n",
        "Output channels (out_channels) = 64\n",
        "Kernel size (kernel_size) = 3x3\n",
        "Spatial output size (let's assume a simplified single output pixel for ease of comparison) = 1\n",
        "Standard Convolution:\n",
        "\n",
        "Number of operations ≈ `kernel_size * kernel_size * in_channels * out_channels`\n",
        "\n",
        "Number of operations ≈ 3 * 3 * 3 * 64 = 9 * 3 * 64 = 27 * 64 = 1728\n",
        "\n",
        "Depthwise Separable Convolution:\n",
        "\n",
        "Depthwise Convolution: `Number of operations ≈ kernel_size * kernel_size * in_channels`\n",
        "\n",
        "Number of operations ≈ 3 * 3 * 3 = 27\n",
        "\n",
        "Pointwise Convolution: Number of operations ≈ `1 * 1 * in_channels * out_channels`\n",
        "\n",
        "Number of operations ≈ 1 * 1 * 3 * 64 = 192\n",
        "\n",
        "Total operations for Depthwise Separable Convolution ≈ Depthwise Operations + Pointwise Operations Total operations ≈ 27 + 192 Total operations ≈ 219\n",
        "\n",
        "Comparison:\n",
        "\n",
        "Standard Convolution Operations: 1728 while Depthwise Separable Convolution Operations: 219\n",
        "\n",
        "In this example, the depthwise separable convolution requires significantly fewer operations (219 vs 1728), illustrating its computational efficiency. This difference becomes even more pronounced with larger kernel sizes and a higher number of channels."
      ],
      "metadata": {
        "id": "8BjGP16hzBJX"
      }
    },
    {
      "cell_type": "markdown",
      "source": [
        "### **Receptive Field**\n",
        "\n",
        "In the context of Convolutional Neural Networks (CNNs), the receptive field of a neuron in a particular layer *is the region in the original input image that influences that neuron's activation*.\n",
        "\n",
        "Think of it like this:\n",
        "\n",
        "* First Layer: A neuron in the first convolutional layer processes a small patch of the input image (defined by the kernel size). So, its receptive field is just that small patch.\n",
        "\n",
        "* Second Layer: A neuron in the second convolutional layer processes a patch of the output from the first layer. Since each point in the first layer's output corresponds to a small region in the input, a neuron in the second layer is indirectly influenced by a larger region in the original input image. Its receptive field is the combination of all the regions in the input that contributed to the patch it's currently processing from the first layer's output.\n",
        "\n",
        "* Deeper Layers: As you go deeper into the network, each layer's input is the output of the previous layer. The receptive field of a neuron in a deeper layer grows because it's influenced by a larger and larger area of the original input image.\n",
        "Key Concepts:\n",
        "\n",
        "**Kernel Size**: A larger kernel size in a layer increases the receptive field of the neurons in that layer.\n",
        "\n",
        "**Stride**: A larger stride in a layer causes the receptive field to grow faster in subsequent layers.\n",
        "\n",
        "**Padding**: Padding affects the effective size of the input and can influence how the receptive field is calculated, but the core idea of the region of influence remains.\n",
        "\n",
        "**Pooling Layers**: Pooling layers (like max pooling) also increase the receptive field because a single output value in a pooling layer summarizes information from a larger spatial region in the preceding layer's output.\n",
        "\n",
        "**Dilation**: Dilated convolutions (as seen in your notebook) are particularly effective at increasing the receptive field without increasing the number of parameters or reducing the spatial dimensions of the feature maps as drastically as pooling or larger strides.\n",
        "Why is the Receptive Field Important?\n",
        "\n",
        "*Understanding what the network \"sees\": The receptive field tells you how much spatial context a neuron is considering when making a decision or extracting a feature.*\n",
        "\n",
        "**Designing Network Architecture**: Understanding how the receptive field grows through the layers helps in designing networks that can capture features at different scales. For tasks like object detection or semantic segmentation, it's important for the network to have a receptive field large enough to cover the objects or regions of interest in the image.\n",
        "\n",
        "**Troubleshooting**: If your network isn't performing well, analyzing the receptive field can sometimes help diagnose issues, for example, if the receptive field is too small to capture the necessary context."
      ],
      "metadata": {
        "id": "hihF-8oDFOSW"
      }
    },
    {
      "cell_type": "markdown",
      "source": [
        "### **Dilated Convolutions (also known as Atrous Convolutions)**\n",
        "\n",
        "Standard convolutions operate on a contiguous block of pixels defined by the kernel size. A 3x3 kernel looks at a 3x3 area directly around the central pixel.\n",
        "\n",
        "**Dilated convolutions** introduce a \"**dilation rate**\" that creates gaps between the kernel elements. *Imagine taking a standard kernel and \"stretching\" it by inserting zeros between the weights*. This allows the kernel to cover a larger area in the input feature map without increasing the number of parameters or the computational cost of the convolution itself.\n",
        "\n",
        "**How Dilated Convolutions Increase the Receptive Field**\n",
        "\n",
        "The effective receptive field of a dilated convolution is larger than a standard convolution with the same kernel size. The formula for the effective kernel size of a dilated convolution is:\n",
        "\n",
        "`Effective_kernel_size = kernel_size + (kernel_size - 1) * (dilation_rate - 1)`\n",
        "\n",
        "For a 3x3 kernel:\n",
        "\n",
        "* Dilation Rate 1: 3 + (3 - 1) * (1 - 1) = 3 + 2 * 0 = 3. Effective size is 3x3.\n",
        "* Dilation Rate 2: 3 + (3 - 1) * (2 - 1) = 3 + 2 * 1 = 5. Effective size is 5x5.\n",
        "* Dilation Rate 3: 3 + (3 - 1) * (3 - 1) = 3 + 2 * 2 = 7. Effective size is 7x7.\n",
        "\n",
        "This means a neuron in a layer with a dilated convolution is influenced by a larger area of the previous layer's output feature map compared to a standard convolution with the same kernel size. Since the receptive field is cumulative across layers, ***this effectively expands the receptive field in the original input image much faster without losing spatial resolution (as pooling does) or significantly increasing computation (as larger kernel sizes do)***.\n",
        "\n",
        "\n",
        "**By how much does one such convolution increase the receptive field?**\n",
        "\n",
        "The increase in receptive field size from a single layer depends on its kernel size, dilation rate, and stride, as well as the receptive field size of the previous layer.\n",
        "\n",
        "A simpler way to think about the increase in receptive field size added by a single layer is related to the effective kernel size and stride.\n",
        "\n",
        "If a layer has a receptive field size of RF_in from the previous layer, a kernel size k, dilation d, and stride s, the new receptive field size RF_out can be calculated iteratively:\n",
        "\n",
        "`RF_out = RF_in + (Effective_kernel_size - 1) * stride_cumulative`\n",
        "\n",
        "Where `Effective_kernel_size = k + (k - 1) * (d - 1)` and *stride_cumulative is the product of strides of all layers up to the current one*.\n",
        "\n",
        "However, a more intuitive way to look at the contribution of a single layer to the receptive field expansion is by considering the difference between its effective kernel size and 1, multiplied by the cumulative stride up to the previous layer.\n",
        "\n",
        "For a layer with kernel k, dilation d, and stride s, the increase in receptive field size relative to a layer with a 1x1 kernel and no dilation (which would have an effective kernel size of 1) is roughly:\n",
        "\n",
        "`(Effective_kernel_size - 1) * cumulative_stride_before_this_layer`\n",
        "\n",
        "Using the effective kernel size formula:\n",
        "\n",
        "`Increase ≈ (k + (k - 1) * (d - 1) - 1) * cumulative_stride_before_this_layer`\n",
        "\n",
        "For example, in your NetCIFAR10 model, the DWSeparableConv with dilation=2 in self.c2 (which has k=3, d=2, s=1 and follows layers with cumulative stride 1) contributes an increase of roughly:\n",
        "\n",
        "`(3 + (3 - 1) * (2 - 1) - 1) * 1 = (3 + 2 * 1 - 1) * 1 = (5 - 1) * 1 = 4`\n",
        "\n",
        "This layer adds 4 to the receptive field size built up by the preceding layers. The layer with dilation=3 in self.c4 (which has k=3, d=3, s=1 and follows layers with cumulative stride 2 due to the stride=2 layer before it) contributes:\n",
        "\n",
        "`3 + (3 - 1) * (3 - 1) - 1) * 2 = (3 + 2 * 2 - 1) * 2 = (7 - 1) * 2 = 6 * 2 = 12`\n",
        "\n",
        "This layer adds 12 to the receptive field size built up before it.\n",
        "\n",
        "**Dilated convolutions are powerful because they allow the network to have a wider view of the input without downsampling, which is crucial for tasks where maintaining spatial resolution is important (like semantic segmentation).**"
      ],
      "metadata": {
        "id": "Gg7fQeDN8rL1"
      }
    },
    {
      "cell_type": "markdown",
      "source": [
        "**Load Model**"
      ],
      "metadata": {
        "id": "-DIPC7cvtl7o"
      }
    },
    {
      "cell_type": "code",
      "source": [
        "from tiny_cifar10_net import NetCIFAR10_Tiny\n",
        "\n",
        "model = NetCIFAR10_Tiny()\n",
        "model"
      ],
      "metadata": {
        "colab": {
          "base_uri": "https://localhost:8080/"
        },
        "id": "M5sz4sRoko_P",
        "outputId": "5be90d19-4fc7-4a50-9991-0a451b11e37e"
      },
      "execution_count": 2,
      "outputs": [
        {
          "output_type": "execute_result",
          "data": {
            "text/plain": [
              "NetCIFAR10_Tiny(\n",
              "  (c1): Sequential(\n",
              "    (0): ConvBNReLU(\n",
              "      (0): Conv2d(3, 16, kernel_size=(3, 3), stride=(1, 1), padding=(1, 1), bias=False)\n",
              "      (1): BatchNorm2d(16, eps=1e-05, momentum=0.1, affine=True, track_running_stats=True)\n",
              "      (2): ReLU(inplace=True)\n",
              "    )\n",
              "    (1): ConvBNReLU(\n",
              "      (0): Conv2d(16, 24, kernel_size=(3, 3), stride=(1, 1), padding=(1, 1), bias=False)\n",
              "      (1): BatchNorm2d(24, eps=1e-05, momentum=0.1, affine=True, track_running_stats=True)\n",
              "      (2): ReLU(inplace=True)\n",
              "    )\n",
              "  )\n",
              "  (c2): Sequential(\n",
              "    (0): DWSeparableConv(\n",
              "      (dw): Conv2d(24, 24, kernel_size=(3, 3), stride=(1, 1), padding=(1, 1), groups=24, bias=False)\n",
              "      (bn_dw): BatchNorm2d(24, eps=1e-05, momentum=0.1, affine=True, track_running_stats=True)\n",
              "      (pw): Conv2d(24, 36, kernel_size=(1, 1), stride=(1, 1), bias=False)\n",
              "      (bn_pw): BatchNorm2d(36, eps=1e-05, momentum=0.1, affine=True, track_running_stats=True)\n",
              "    )\n",
              "    (1): DWSeparableConv(\n",
              "      (dw): Conv2d(36, 36, kernel_size=(3, 3), stride=(1, 1), padding=(2, 2), dilation=(2, 2), groups=36, bias=False)\n",
              "      (bn_dw): BatchNorm2d(36, eps=1e-05, momentum=0.1, affine=True, track_running_stats=True)\n",
              "      (pw): Conv2d(36, 36, kernel_size=(1, 1), stride=(1, 1), bias=False)\n",
              "      (bn_pw): BatchNorm2d(36, eps=1e-05, momentum=0.1, affine=True, track_running_stats=True)\n",
              "    )\n",
              "  )\n",
              "  (c3): Sequential(\n",
              "    (0): DWSeparableConv(\n",
              "      (dw): Conv2d(36, 36, kernel_size=(3, 3), stride=(1, 1), padding=(1, 1), groups=36, bias=False)\n",
              "      (bn_dw): BatchNorm2d(36, eps=1e-05, momentum=0.1, affine=True, track_running_stats=True)\n",
              "      (pw): Conv2d(36, 48, kernel_size=(1, 1), stride=(1, 1), bias=False)\n",
              "      (bn_pw): BatchNorm2d(48, eps=1e-05, momentum=0.1, affine=True, track_running_stats=True)\n",
              "    )\n",
              "    (1): DWSeparableConv(\n",
              "      (dw): Conv2d(48, 48, kernel_size=(3, 3), stride=(1, 1), padding=(1, 1), groups=48, bias=False)\n",
              "      (bn_dw): BatchNorm2d(48, eps=1e-05, momentum=0.1, affine=True, track_running_stats=True)\n",
              "      (pw): Conv2d(48, 48, kernel_size=(1, 1), stride=(1, 1), bias=False)\n",
              "      (bn_pw): BatchNorm2d(48, eps=1e-05, momentum=0.1, affine=True, track_running_stats=True)\n",
              "    )\n",
              "  )\n",
              "  (c4): Sequential(\n",
              "    (0): DWSeparableConv(\n",
              "      (dw): Conv2d(48, 48, kernel_size=(3, 3), stride=(2, 2), padding=(1, 1), groups=48, bias=False)\n",
              "      (bn_dw): BatchNorm2d(48, eps=1e-05, momentum=0.1, affine=True, track_running_stats=True)\n",
              "      (pw): Conv2d(48, 64, kernel_size=(1, 1), stride=(1, 1), bias=False)\n",
              "      (bn_pw): BatchNorm2d(64, eps=1e-05, momentum=0.1, affine=True, track_running_stats=True)\n",
              "    )\n",
              "    (1): DWSeparableConv(\n",
              "      (dw): Conv2d(64, 64, kernel_size=(3, 3), stride=(1, 1), padding=(2, 2), dilation=(2, 2), groups=64, bias=False)\n",
              "      (bn_dw): BatchNorm2d(64, eps=1e-05, momentum=0.1, affine=True, track_running_stats=True)\n",
              "      (pw): Conv2d(64, 64, kernel_size=(1, 1), stride=(1, 1), bias=False)\n",
              "      (bn_pw): BatchNorm2d(64, eps=1e-05, momentum=0.1, affine=True, track_running_stats=True)\n",
              "    )\n",
              "    (2): DWSeparableConv(\n",
              "      (dw): Conv2d(64, 64, kernel_size=(3, 3), stride=(1, 1), padding=(3, 3), dilation=(3, 3), groups=64, bias=False)\n",
              "      (bn_dw): BatchNorm2d(64, eps=1e-05, momentum=0.1, affine=True, track_running_stats=True)\n",
              "      (pw): Conv2d(64, 64, kernel_size=(1, 1), stride=(1, 1), bias=False)\n",
              "      (bn_pw): BatchNorm2d(64, eps=1e-05, momentum=0.1, affine=True, track_running_stats=True)\n",
              "    )\n",
              "    (3): DWSeparableConv(\n",
              "      (dw): Conv2d(64, 64, kernel_size=(3, 3), stride=(1, 1), padding=(1, 1), groups=64, bias=False)\n",
              "      (bn_dw): BatchNorm2d(64, eps=1e-05, momentum=0.1, affine=True, track_running_stats=True)\n",
              "      (pw): Conv2d(64, 64, kernel_size=(1, 1), stride=(1, 1), bias=False)\n",
              "      (bn_pw): BatchNorm2d(64, eps=1e-05, momentum=0.1, affine=True, track_running_stats=True)\n",
              "    )\n",
              "    (4): DWSeparableConv(\n",
              "      (dw): Conv2d(64, 64, kernel_size=(3, 3), stride=(1, 1), padding=(1, 1), groups=64, bias=False)\n",
              "      (bn_dw): BatchNorm2d(64, eps=1e-05, momentum=0.1, affine=True, track_running_stats=True)\n",
              "      (pw): Conv2d(64, 64, kernel_size=(1, 1), stride=(1, 1), bias=False)\n",
              "      (bn_pw): BatchNorm2d(64, eps=1e-05, momentum=0.1, affine=True, track_running_stats=True)\n",
              "    )\n",
              "  )\n",
              "  (gap): AdaptiveAvgPool2d(output_size=1)\n",
              "  (head): Conv2d(64, 10, kernel_size=(1, 1), stride=(1, 1))\n",
              ")"
            ]
          },
          "metadata": {},
          "execution_count": 2
        }
      ]
    },
    {
      "cell_type": "markdown",
      "metadata": {
        "id": "784f238c"
      },
      "source": [
        "Let's calculate the receptive field (RF) step by step for the `NetCIFAR10_Tiny` model.\n",
        "\n",
        "The formula for the effective kernel size (`Effective_kernel_size`) of a dilated convolution is:\n",
        "`Effective_kernel_size = kernel_size + (kernel_size - 1) * (dilation_rate - 1)`\n",
        "\n",
        "The iterative formula for the receptive field size (`RF_out`) after a layer is:\n",
        "`RF_out = RF_in + (Effective_kernel_size - 1) * stride_cumulative`\n",
        "where `RF_in` is the receptive field of the previous layer and `stride_cumulative` is the product of strides of all layers up to the *previous* layer.\n",
        "\n",
        "Assuming the input image has an RF of 1 (a single pixel):\n",
        "\n",
        "**C1: (B,3,32,32) -> (B,32,32,32)**\n",
        "- **Layer 1 (ConvBNReLU):** `k=3`, `stride=1`, `dilation=1`\n",
        "  - `Effective_kernel_size = 3 + (3 - 1) * (1 - 1) = 3`\n",
        "  - `RF = RF_in + (Effective_kernel_size - 1) * stride_cumulative = 1 + (3 - 1) * 1 = 1 + 2 = 3`\n",
        "  - `Cumulative Stride = 1`\n",
        "- **Layer 2 (ConvBNReLU):** `k=3`, `stride=1`, `dilation=1`\n",
        "  - `Effective_kernel_size = 3 + (3 - 1) * (1 - 1) = 3`\n",
        "  - `RF = RF_in + (Effective_kernel_size - 1) * stride_cumulative = 3 + (3 - 1) * 1 = 3 + 2 = 5`\n",
        "  - `Cumulative Stride = 1 * 1 = 1`\n",
        "\n",
        "**C2: (B,24,32,32) -> (B,36,32,32)**\n",
        "- **Layer 3 (DWSeparableConv - Depthwise):** `k=3`, `stride=1`, `dilation=1`\n",
        "  - `Effective_kernel_size = 3`\n",
        "  - `RF = RF_in + (Effective_kernel_size - 1) * stride_cumulative = 5 + (3 - 1) * 1 = 5 + 2 = 7`\n",
        "  - `Cumulative Stride = 1 * 1 = 1`\n",
        "- **Layer 4 (DWSeparableConv - Pointwise):** `k=1`, `stride=1`, `dilation=1`\n",
        "  - `Effective_kernel_size = 1`\n",
        "  - `RF = RF_in + (Effective_kernel_size - 1) * stride_cumulative = 7 + (1 - 1) * 1 = 7 + 0 = 7`\n",
        "  - `Cumulative Stride = 1 * 1 = 1`\n",
        "- **Layer 5 (DWSeparableConv - Depthwise):** `k=3`, `stride=1`, `dilation=2`\n",
        "  - `Effective_kernel_size = 3 + (3 - 1) * (2 - 1) = 5`\n",
        "  - `RF = RF_in + (Effective_kernel_size - 1) * stride_cumulative = 7 + (5 - 1) * 1 = 7 + 4 = 11`\n",
        "  - `Cumulative Stride = 1 * 1 = 1`\n",
        "- **Layer 6 (DWSeparableConv - Pointwise):** `k=1`, `stride=1`, `dilation=1`\n",
        "  - `Effective_kernel_size = 1`\n",
        "  - `RF = RF_in + (Effective_kernel_size - 1) * stride_cumulative = 11 + (1 - 1) * 1 = 11 + 0 = 11`\n",
        "  - `Cumulative Stride = 1 * 1 = 1`\n",
        "\n",
        "**C3: (B,36,32,32) -> (B,48,32,32)**\n",
        "- **Layer 7 (DWSeparableConv - Depthwise):** `k=3`, `stride=1`, `dilation=1`\n",
        "  - `Effective_kernel_size = 3`\n",
        "  - `RF = RF_in + (Effective_kernel_size - 1) * stride_cumulative = 11 + (3 - 1) * 1 = 11 + 2 = 13`\n",
        "  - `Cumulative Stride = 1 * 1 = 1`\n",
        "- **Layer 8 (DWSeparableConv - Pointwise):** `k=1`, `stride=1`, `dilation=1`\n",
        "  - `Effective_kernel_size = 1`\n",
        "  - `RF = RF_in + (Effective_kernel_size - 1) * stride_cumulative = 13 + (1 - 1) * 1 = 13 + 0 = 13`\n",
        "  - `Cumulative Stride = 1 * 1 = 1`\n",
        "- **Layer 9 (DWSeparableConv - Depthwise):** `k=3`, `stride=1`, `dilation=1`\n",
        "  - `Effective_kernel_size = 3`\n",
        "  - `RF = RF_in + (Effective_kernel_size - 1) * stride_cumulative = 13 + (3 - 1) * 1 = 13 + 2 = 15`\n",
        "  - `Cumulative Stride = 1 * 1 = 1`\n",
        "- **Layer 10 (DWSeparableConv - Pointwise):** `k=1`, `stride=1`, `dilation=1`\n",
        "  - `Effective_kernel_size = 1`\n",
        "  - `RF = RF_in + (Effective_kernel_size - 1) * stride_cumulative = 15 + (1 - 1) * 1 = 15 + 0 = 15`\n",
        "  - `Cumulative Stride = 1 * 1 = 1`\n",
        "\n",
        "**C4: downsample only here (no maxpool)**\n",
        "- **Layer 11 (DWSeparableConv - Depthwise):** `k=3`, `stride=2`, `dilation=1`\n",
        "  - `Effective_kernel_size = 3`\n",
        "  - `RF = RF_in + (Effective_kernel_size - 1) * stride_cumulative = 15 + (3 - 1) * 1 = 15 + 2 = 17`\n",
        "  - `Cumulative Stride = 1 * 2 = 2`\n",
        "- **Layer 12 (DWSeparableConv - Pointwise):** `k=1`, `stride=1`, `dilation=1`\n",
        "  - `Effective_kernel_size = 1`\n",
        "  - `RF = RF_in + (Effective_kernel_size - 1) * stride_cumulative = 17 + (1 - 1) * 2 = 17 + 0 = 17`\n",
        "  - `Cumulative Stride = 2 * 1 = 2`\n",
        "- **Layer 13 (DWSeparableConv - Depthwise):** `k=3`, `stride=1`, `dilation=2`\n",
        "  - `Effective_kernel_size = 3 + (3 - 1) * (2 - 1) = 5`\n",
        "  - `RF = RF_in + (Effective_kernel_size - 1) * stride_cumulative = 17 + (5 - 1) * 2 = 17 + 4 * 2 = 17 + 8 = 25`\n",
        "  - `Cumulative Stride = 2 * 1 = 2`\n",
        "- **Layer 14 (DWSeparableConv - Pointwise):** `k=1`, `stride=1`, `dilation=1`\n",
        "  - `Effective_kernel_size = 1`\n",
        "  - `RF = RF_in + (Effective_kernel_size - 1) * stride_cumulative = 25 + (1 - 1) * 2 = 25 + 0 = 25`\n",
        "  - `Cumulative Stride = 2 * 1 = 2`\n",
        "- **Layer 15 (DWSeparableConv - Depthwise):** `k=3`, `stride=1`, `dilation=3`\n",
        "  - `Effective_kernel_size = 3 + (3 - 1) * (3 - 1) = 7`\n",
        "  - `RF = RF_in + (Effective_kernel_size - 1) * stride_cumulative = 25 + (7 - 1) * 2 = 25 + 6 * 2 = 25 + 12 = 37`\n",
        "  - `Cumulative Stride = 2 * 1 = 2`\n",
        "- **Layer 16 (DWSeparableConv - Pointwise):** `k=1`, `stride=1`, `dilation=1`\n",
        "  - `Effective_kernel_size = 1`\n",
        "  - `RF = RF_in + (Effective_kernel_size - 1) * stride_cumulative = 37 + (1 - 1) * 2 = 37 + 0 = 37`\n",
        "  - `Cumulative Stride = 2 * 1 = 2`\n",
        "- **Layer 17 (DWSeparableConv - Depthwise):** `k=3`, `stride=1`, `dilation=1`\n",
        "  - `Effective_kernel_size = 3`\n",
        "  - `RF = RF_in + (Effective_kernel_size - 1) * stride_cumulative = 37 + (3 - 1) * 2 = 37 + 2 * 2 = 37 + 4 = 41`\n",
        "  - `Cumulative Stride = 2 * 1 = 2`\n",
        "- **Layer 18 (DWSeparableConv - Pointwise):** `k=1`, `stride=1`, `dilation=1`\n",
        "  - `Effective_kernel_size = 1`\n",
        "  - `RF = RF_in + (Effective_kernel_size - 1) * stride_cumulative = 41 + (1 - 1) * 2 = 41 + 0 = 41`\n",
        "  - `Cumulative Stride = 2 * 1 = 2`\n",
        "- **Layer 19 (DWSeparableConv - Depthwise):** `k=3`, `stride=1`, `dilation=1`\n",
        "  - `Effective_kernel_size = 3`\n",
        "  - `RF = RF_in + (Effective_kernel_size - 1) * stride_cumulative = 41 + (3 - 1) * 2 = 41 + 2 * 2 = 41 + 4 = 45`\n",
        "  - `Cumulative Stride = 2 * 1 = 2`\n",
        "- **Layer 20 (DWSeparableConv - Pointwise):** `k=1`, `stride=1`, `dilation=1`\n",
        "  - `Effective_kernel_size = 1`\n",
        "  - `RF = RF_in + (Effective_kernel_size - 1) * stride_cumulative = 45 + (1 - 1) * 2 = 45 + 0 = 45`\n",
        "  - `Cumulative Stride = 2 * 1 = 2`\n",
        "\n",
        "**GAP**\n",
        "- The Global Average Pooling layer effectively has a receptive field equal to the entire input size of the layer before it. The input to GAP is 16x16 with a cumulative stride of 2 from the original input. The RF before GAP is 45.\n",
        "\n",
        "**Head**\n",
        "- The 1x1 convolution head processes the output of the GAP layer, which is a single spatial location summarizing the entire receptive field of the last convolutional layer.\n",
        "\n",
        "**Therefore, the receptive field before the Global Average Pooling layer is 45.**"
      ]
    },
    {
      "cell_type": "code",
      "source": [
        "from torchsummary import summary\n",
        "use_cuda = torch.cuda.is_available()\n",
        "device = torch.device(\"cuda\" if use_cuda else \"cpu\")\n",
        "print(device)\n",
        "\n",
        "model = model.to(device)\n",
        "summary(model, input_size=(3, 32, 32))"
      ],
      "metadata": {
        "colab": {
          "base_uri": "https://localhost:8080/"
        },
        "id": "ZTNTWB0aVvKh",
        "outputId": "ef0a08f3-b976-44bd-d603-5e1a0c5ee7c5"
      },
      "execution_count": 3,
      "outputs": [
        {
          "output_type": "stream",
          "name": "stdout",
          "text": [
            "cpu\n",
            "----------------------------------------------------------------\n",
            "        Layer (type)               Output Shape         Param #\n",
            "================================================================\n",
            "            Conv2d-1           [-1, 16, 32, 32]             432\n",
            "       BatchNorm2d-2           [-1, 16, 32, 32]              32\n",
            "              ReLU-3           [-1, 16, 32, 32]               0\n",
            "            Conv2d-4           [-1, 24, 32, 32]           3,456\n",
            "       BatchNorm2d-5           [-1, 24, 32, 32]              48\n",
            "              ReLU-6           [-1, 24, 32, 32]               0\n",
            "            Conv2d-7           [-1, 24, 32, 32]             216\n",
            "       BatchNorm2d-8           [-1, 24, 32, 32]              48\n",
            "            Conv2d-9           [-1, 36, 32, 32]             864\n",
            "      BatchNorm2d-10           [-1, 36, 32, 32]              72\n",
            "  DWSeparableConv-11           [-1, 36, 32, 32]               0\n",
            "           Conv2d-12           [-1, 36, 32, 32]             324\n",
            "      BatchNorm2d-13           [-1, 36, 32, 32]              72\n",
            "           Conv2d-14           [-1, 36, 32, 32]           1,296\n",
            "      BatchNorm2d-15           [-1, 36, 32, 32]              72\n",
            "  DWSeparableConv-16           [-1, 36, 32, 32]               0\n",
            "           Conv2d-17           [-1, 36, 32, 32]             324\n",
            "      BatchNorm2d-18           [-1, 36, 32, 32]              72\n",
            "           Conv2d-19           [-1, 48, 32, 32]           1,728\n",
            "      BatchNorm2d-20           [-1, 48, 32, 32]              96\n",
            "  DWSeparableConv-21           [-1, 48, 32, 32]               0\n",
            "           Conv2d-22           [-1, 48, 32, 32]             432\n",
            "      BatchNorm2d-23           [-1, 48, 32, 32]              96\n",
            "           Conv2d-24           [-1, 48, 32, 32]           2,304\n",
            "      BatchNorm2d-25           [-1, 48, 32, 32]              96\n",
            "  DWSeparableConv-26           [-1, 48, 32, 32]               0\n",
            "           Conv2d-27           [-1, 48, 16, 16]             432\n",
            "      BatchNorm2d-28           [-1, 48, 16, 16]              96\n",
            "           Conv2d-29           [-1, 64, 16, 16]           3,072\n",
            "      BatchNorm2d-30           [-1, 64, 16, 16]             128\n",
            "  DWSeparableConv-31           [-1, 64, 16, 16]               0\n",
            "           Conv2d-32           [-1, 64, 16, 16]             576\n",
            "      BatchNorm2d-33           [-1, 64, 16, 16]             128\n",
            "           Conv2d-34           [-1, 64, 16, 16]           4,096\n",
            "      BatchNorm2d-35           [-1, 64, 16, 16]             128\n",
            "  DWSeparableConv-36           [-1, 64, 16, 16]               0\n",
            "           Conv2d-37           [-1, 64, 16, 16]             576\n",
            "      BatchNorm2d-38           [-1, 64, 16, 16]             128\n",
            "           Conv2d-39           [-1, 64, 16, 16]           4,096\n",
            "      BatchNorm2d-40           [-1, 64, 16, 16]             128\n",
            "  DWSeparableConv-41           [-1, 64, 16, 16]               0\n",
            "           Conv2d-42           [-1, 64, 16, 16]             576\n",
            "      BatchNorm2d-43           [-1, 64, 16, 16]             128\n",
            "           Conv2d-44           [-1, 64, 16, 16]           4,096\n",
            "      BatchNorm2d-45           [-1, 64, 16, 16]             128\n",
            "  DWSeparableConv-46           [-1, 64, 16, 16]               0\n",
            "           Conv2d-47           [-1, 64, 16, 16]             576\n",
            "      BatchNorm2d-48           [-1, 64, 16, 16]             128\n",
            "           Conv2d-49           [-1, 64, 16, 16]           4,096\n",
            "      BatchNorm2d-50           [-1, 64, 16, 16]             128\n",
            "  DWSeparableConv-51           [-1, 64, 16, 16]               0\n",
            "AdaptiveAvgPool2d-52             [-1, 64, 1, 1]               0\n",
            "           Conv2d-53             [-1, 10, 1, 1]             650\n",
            "================================================================\n",
            "Total params: 36,170\n",
            "Trainable params: 36,170\n",
            "Non-trainable params: 0\n",
            "----------------------------------------------------------------\n",
            "Input size (MB): 0.01\n",
            "Forward/backward pass size (MB): 10.19\n",
            "Params size (MB): 0.14\n",
            "Estimated Total Size (MB): 10.34\n",
            "----------------------------------------------------------------\n"
          ]
        }
      ]
    },
    {
      "cell_type": "code",
      "source": [
        "import copy\n",
        "import torch\n",
        "import torch.nn.functional as F\n",
        "from tqdm import tqdm\n",
        "\n",
        "# keep your history lists (now store epoch-level stats)\n",
        "train_losses, test_losses = [], []\n",
        "train_acc,    test_acc    = [], []\n",
        "\n",
        "class EarlyStopping:\n",
        "    def __init__(self, patience=6, min_delta=1e-4, restore_best_weights=True, checkpoint_path=None):\n",
        "        self.patience = patience\n",
        "        self.min_delta = min_delta\n",
        "        self.restore_best_weights = restore_best_weights\n",
        "        self.checkpoint_path = checkpoint_path\n",
        "        self.best = float('inf')\n",
        "        self.wait = 0\n",
        "        self.best_state = None\n",
        "\n",
        "    def step(self, val_loss, model):\n",
        "        improved = (self.best - val_loss) > self.min_delta\n",
        "        if improved:\n",
        "            self.best = val_loss\n",
        "            self.wait = 0\n",
        "            if self.restore_best_weights:\n",
        "                self.best_state = copy.deepcopy(model.state_dict())\n",
        "            if self.checkpoint_path:\n",
        "                torch.save(model.state_dict(), self.checkpoint_path)\n",
        "        else:\n",
        "            self.wait += 1\n",
        "        return self.wait >= self.patience\n",
        "\n",
        "    def load_best(self, model):\n",
        "        if self.restore_best_weights and self.best_state is not None:\n",
        "            model.load_state_dict(self.best_state)\n",
        "        elif self.checkpoint_path:\n",
        "            model.load_state_dict(torch.load(self.checkpoint_path, map_location=\"cpu\"))\n",
        "\n",
        "def train(model, device, train_loader, optimizer, epoch):\n",
        "    model.train()\n",
        "    pbar = tqdm(train_loader, desc=f\"Train E{epoch:02d}\")\n",
        "    correct, total = 0, 0\n",
        "    running_loss = 0.0\n",
        "\n",
        "    for batch_idx, (data, target) in enumerate(pbar):\n",
        "        data, target = data.to(device), target.to(device)\n",
        "\n",
        "        optimizer.zero_grad()\n",
        "        y_pred = model(data)\n",
        "        loss = F.nll_loss(y_pred, target)\n",
        "        loss.backward()\n",
        "        optimizer.step()\n",
        "\n",
        "        # stats\n",
        "        running_loss += loss.item() * data.size(0)\n",
        "        pred = y_pred.argmax(dim=1)\n",
        "        correct += (pred == target).sum().item()\n",
        "        total += data.size(0)\n",
        "\n",
        "        pbar.set_postfix(loss=f\"{loss.item():.4f}\", acc=f\"{100*correct/total:.2f}%\")\n",
        "\n",
        "    epoch_loss = running_loss / total\n",
        "    epoch_acc  = 100.0 * correct / total\n",
        "    train_losses.append(epoch_loss)\n",
        "    train_acc.append(epoch_acc)\n",
        "    return epoch_loss, epoch_acc\n",
        "\n",
        "def test(model, device, test_loader, epoch=None):\n",
        "    model.eval()\n",
        "    test_loss_sum, correct, total = 0.0, 0, 0\n",
        "\n",
        "    with torch.no_grad():\n",
        "        for data, target in test_loader:\n",
        "            data, target = data.to(device), target.to(device)\n",
        "            output = model(data)\n",
        "            loss = F.nll_loss(output, target, reduction='sum')  # sum over batch\n",
        "            test_loss_sum += loss.item()\n",
        "            pred = output.argmax(dim=1)\n",
        "            correct += (pred == target).sum().item()\n",
        "            total += data.size(0)\n",
        "\n",
        "    avg_loss = test_loss_sum / total\n",
        "    acc = 100.0 * correct / total\n",
        "    test_losses.append(avg_loss)\n",
        "    test_acc.append(acc)\n",
        "\n",
        "    if epoch is not None:\n",
        "        print(f\"\\nVal E{epoch:02d}: loss={avg_loss:.4f}, acc={correct}/{total} ({acc:.2f}%)\\n\")\n",
        "    else:\n",
        "        print(f\"\\nVal: loss={avg_loss:.4f}, acc={correct}/{total} ({acc:.2f}%)\\n\")\n",
        "\n",
        "    return avg_loss, acc\n"
      ],
      "metadata": {
        "id": "BTSFn1eEZ2co"
      },
      "execution_count": null,
      "outputs": []
    },
    {
      "cell_type": "code",
      "source": [
        "import torch.optim as optim\n",
        "from torch.optim.lr_scheduler import ReduceLROnPlateau\n",
        "\n",
        "use_cuda = torch.cuda.is_available()\n",
        "device = torch.device(\"cuda\" if use_cuda else \"cpu\")\n",
        "print(\"Device:\", device)\n",
        "\n",
        "model = NetCIFAR10_Tiny().to(device)\n",
        "\n",
        "optimizer = optim.SGD(model.parameters(), lr=0.045, momentum=0.9, weight_decay=5e-4, nesterov=True)\n",
        "scheduler = ReduceLROnPlateau(optimizer, mode='min', factor=0.1, patience=2)\n",
        "\n",
        "early_stop = EarlyStopping(\n",
        "    patience=6,               # let LR reduce a few times before stopping\n",
        "    min_delta=1e-4,\n",
        "    restore_best_weights=True,\n",
        "    checkpoint_path=\"best_cifar10_tiny.pt\"  # optional\n",
        ")\n",
        "\n",
        "EPOCHS = 50\n",
        "for epoch in range(1, EPOCHS + 1):\n",
        "    tr_loss, tr_acc = train(model, device, train_loader, optimizer, epoch)\n",
        "    val_loss, val_acc = test(model, device, test_loader, epoch)\n",
        "\n",
        "    # step LR on validation loss (ReduceLROnPlateau expects a scalar)\n",
        "    scheduler.step(val_loss)\n",
        "\n",
        "    # early stopping on validation loss\n",
        "    if early_stop.step(val_loss, model):\n",
        "        print(f\"Early stopping at epoch {epoch}. Best val loss: {early_stop.best:.4f}\")\n",
        "        break\n",
        "\n",
        "# restore best weights (from memory or checkpoint)\n",
        "early_stop.load_best(model)\n",
        "print(\"Loaded best model (early stopping). Best val loss:\", f\"{early_stop.best:.4f}\")\n"
      ],
      "metadata": {
        "colab": {
          "base_uri": "https://localhost:8080/"
        },
        "id": "j6jAgnbkZ-7k",
        "outputId": "9846613b-70a1-4604-cfb9-10954aefbbfd"
      },
      "execution_count": null,
      "outputs": [
        {
          "output_type": "stream",
          "name": "stdout",
          "text": [
            "Device: cuda\n"
          ]
        },
        {
          "output_type": "stream",
          "name": "stderr",
          "text": [
            "Train E01: 100%|██████████| 391/391 [00:51<00:00,  7.53it/s, acc=35.03%, loss=1.5676]\n"
          ]
        },
        {
          "output_type": "stream",
          "name": "stdout",
          "text": [
            "\n",
            "Val E01: loss=1.4315, acc=4674/10000 (46.74%)\n",
            "\n"
          ]
        },
        {
          "output_type": "stream",
          "name": "stderr",
          "text": [
            "Train E02: 100%|██████████| 391/391 [00:52<00:00,  7.51it/s, acc=51.66%, loss=1.0541]\n"
          ]
        },
        {
          "output_type": "stream",
          "name": "stdout",
          "text": [
            "\n",
            "Val E02: loss=1.1386, acc=5930/10000 (59.30%)\n",
            "\n"
          ]
        },
        {
          "output_type": "stream",
          "name": "stderr",
          "text": [
            "Train E03: 100%|██████████| 391/391 [00:51<00:00,  7.54it/s, acc=59.35%, loss=1.1905]\n"
          ]
        },
        {
          "output_type": "stream",
          "name": "stdout",
          "text": [
            "\n",
            "Val E03: loss=0.9987, acc=6482/10000 (64.82%)\n",
            "\n"
          ]
        },
        {
          "output_type": "stream",
          "name": "stderr",
          "text": [
            "Train E04: 100%|██████████| 391/391 [00:52<00:00,  7.43it/s, acc=63.93%, loss=1.0568]\n"
          ]
        },
        {
          "output_type": "stream",
          "name": "stdout",
          "text": [
            "\n",
            "Val E04: loss=0.9431, acc=6677/10000 (66.77%)\n",
            "\n"
          ]
        },
        {
          "output_type": "stream",
          "name": "stderr",
          "text": [
            "Train E05: 100%|██████████| 391/391 [00:51<00:00,  7.58it/s, acc=66.84%, loss=0.8626]\n"
          ]
        },
        {
          "output_type": "stream",
          "name": "stdout",
          "text": [
            "\n",
            "Val E05: loss=0.8186, acc=7105/10000 (71.05%)\n",
            "\n"
          ]
        },
        {
          "output_type": "stream",
          "name": "stderr",
          "text": [
            "Train E06: 100%|██████████| 391/391 [00:51<00:00,  7.56it/s, acc=68.74%, loss=0.7843]\n"
          ]
        },
        {
          "output_type": "stream",
          "name": "stdout",
          "text": [
            "\n",
            "Val E06: loss=0.8144, acc=7170/10000 (71.70%)\n",
            "\n"
          ]
        },
        {
          "output_type": "stream",
          "name": "stderr",
          "text": [
            "Train E07: 100%|██████████| 391/391 [00:52<00:00,  7.51it/s, acc=69.66%, loss=0.8298]\n"
          ]
        },
        {
          "output_type": "stream",
          "name": "stdout",
          "text": [
            "\n",
            "Val E07: loss=0.7837, acc=7308/10000 (73.08%)\n",
            "\n"
          ]
        },
        {
          "output_type": "stream",
          "name": "stderr",
          "text": [
            "Train E08: 100%|██████████| 391/391 [00:51<00:00,  7.60it/s, acc=70.72%, loss=0.7705]\n"
          ]
        },
        {
          "output_type": "stream",
          "name": "stdout",
          "text": [
            "\n",
            "Val E08: loss=0.7666, acc=7409/10000 (74.09%)\n",
            "\n"
          ]
        },
        {
          "output_type": "stream",
          "name": "stderr",
          "text": [
            "Train E09: 100%|██████████| 391/391 [00:53<00:00,  7.25it/s, acc=71.90%, loss=0.9335]\n"
          ]
        },
        {
          "output_type": "stream",
          "name": "stdout",
          "text": [
            "\n",
            "Val E09: loss=0.7935, acc=7300/10000 (73.00%)\n",
            "\n"
          ]
        },
        {
          "output_type": "stream",
          "name": "stderr",
          "text": [
            "Train E10: 100%|██████████| 391/391 [00:53<00:00,  7.38it/s, acc=72.21%, loss=1.0078]\n"
          ]
        },
        {
          "output_type": "stream",
          "name": "stdout",
          "text": [
            "\n",
            "Val E10: loss=0.7317, acc=7501/10000 (75.01%)\n",
            "\n"
          ]
        },
        {
          "output_type": "stream",
          "name": "stderr",
          "text": [
            "Train E11: 100%|██████████| 391/391 [00:52<00:00,  7.40it/s, acc=72.61%, loss=0.7129]\n"
          ]
        },
        {
          "output_type": "stream",
          "name": "stdout",
          "text": [
            "\n",
            "Val E11: loss=0.7140, acc=7472/10000 (74.72%)\n",
            "\n"
          ]
        },
        {
          "output_type": "stream",
          "name": "stderr",
          "text": [
            "Train E12: 100%|██████████| 391/391 [00:52<00:00,  7.43it/s, acc=73.12%, loss=0.7297]\n"
          ]
        },
        {
          "output_type": "stream",
          "name": "stdout",
          "text": [
            "\n",
            "Val E12: loss=0.7216, acc=7530/10000 (75.30%)\n",
            "\n"
          ]
        },
        {
          "output_type": "stream",
          "name": "stderr",
          "text": [
            "Train E13: 100%|██████████| 391/391 [00:53<00:00,  7.37it/s, acc=73.39%, loss=0.6775]\n"
          ]
        },
        {
          "output_type": "stream",
          "name": "stdout",
          "text": [
            "\n",
            "Val E13: loss=0.6634, acc=7711/10000 (77.11%)\n",
            "\n"
          ]
        },
        {
          "output_type": "stream",
          "name": "stderr",
          "text": [
            "Train E14: 100%|██████████| 391/391 [00:54<00:00,  7.21it/s, acc=74.02%, loss=0.8518]\n"
          ]
        },
        {
          "output_type": "stream",
          "name": "stdout",
          "text": [
            "\n",
            "Val E14: loss=0.6490, acc=7779/10000 (77.79%)\n",
            "\n"
          ]
        },
        {
          "output_type": "stream",
          "name": "stderr",
          "text": [
            "Train E15: 100%|██████████| 391/391 [00:52<00:00,  7.40it/s, acc=74.36%, loss=0.7840]\n"
          ]
        },
        {
          "output_type": "stream",
          "name": "stdout",
          "text": [
            "\n",
            "Val E15: loss=0.6595, acc=7712/10000 (77.12%)\n",
            "\n"
          ]
        },
        {
          "output_type": "stream",
          "name": "stderr",
          "text": [
            "Train E16: 100%|██████████| 391/391 [00:52<00:00,  7.51it/s, acc=74.69%, loss=0.7349]\n"
          ]
        },
        {
          "output_type": "stream",
          "name": "stdout",
          "text": [
            "\n",
            "Val E16: loss=0.6183, acc=7887/10000 (78.87%)\n",
            "\n"
          ]
        },
        {
          "output_type": "stream",
          "name": "stderr",
          "text": [
            "Train E17: 100%|██████████| 391/391 [00:52<00:00,  7.42it/s, acc=74.90%, loss=0.9129]\n"
          ]
        },
        {
          "output_type": "stream",
          "name": "stdout",
          "text": [
            "\n",
            "Val E17: loss=0.7629, acc=7317/10000 (73.17%)\n",
            "\n"
          ]
        },
        {
          "output_type": "stream",
          "name": "stderr",
          "text": [
            "Train E18: 100%|██████████| 391/391 [00:53<00:00,  7.32it/s, acc=75.19%, loss=0.8183]\n"
          ]
        },
        {
          "output_type": "stream",
          "name": "stdout",
          "text": [
            "\n",
            "Val E18: loss=0.6602, acc=7722/10000 (77.22%)\n",
            "\n"
          ]
        },
        {
          "output_type": "stream",
          "name": "stderr",
          "text": [
            "Train E19: 100%|██████████| 391/391 [00:53<00:00,  7.28it/s, acc=75.26%, loss=0.5072]\n"
          ]
        },
        {
          "output_type": "stream",
          "name": "stdout",
          "text": [
            "\n",
            "Val E19: loss=0.6981, acc=7642/10000 (76.42%)\n",
            "\n"
          ]
        },
        {
          "output_type": "stream",
          "name": "stderr",
          "text": [
            "Train E20: 100%|██████████| 391/391 [00:52<00:00,  7.41it/s, acc=79.24%, loss=0.4252]\n"
          ]
        },
        {
          "output_type": "stream",
          "name": "stdout",
          "text": [
            "\n",
            "Val E20: loss=0.4695, acc=8372/10000 (83.72%)\n",
            "\n"
          ]
        },
        {
          "output_type": "stream",
          "name": "stderr",
          "text": [
            "Train E21: 100%|██████████| 391/391 [00:53<00:00,  7.37it/s, acc=80.29%, loss=0.6366]\n"
          ]
        },
        {
          "output_type": "stream",
          "name": "stdout",
          "text": [
            "\n",
            "Val E21: loss=0.4433, acc=8476/10000 (84.76%)\n",
            "\n"
          ]
        },
        {
          "output_type": "stream",
          "name": "stderr",
          "text": [
            "Train E22: 100%|██████████| 391/391 [00:52<00:00,  7.47it/s, acc=80.91%, loss=0.5783]\n"
          ]
        },
        {
          "output_type": "stream",
          "name": "stdout",
          "text": [
            "\n",
            "Val E22: loss=0.4311, acc=8510/10000 (85.10%)\n",
            "\n"
          ]
        },
        {
          "output_type": "stream",
          "name": "stderr",
          "text": [
            "Train E23: 100%|██████████| 391/391 [00:54<00:00,  7.22it/s, acc=81.12%, loss=0.5552]\n"
          ]
        },
        {
          "output_type": "stream",
          "name": "stdout",
          "text": [
            "\n",
            "Val E23: loss=0.4277, acc=8504/10000 (85.04%)\n",
            "\n"
          ]
        },
        {
          "output_type": "stream",
          "name": "stderr",
          "text": [
            "Train E24: 100%|██████████| 391/391 [00:52<00:00,  7.43it/s, acc=81.21%, loss=0.5787]\n"
          ]
        },
        {
          "output_type": "stream",
          "name": "stdout",
          "text": [
            "\n",
            "Val E24: loss=0.4200, acc=8533/10000 (85.33%)\n",
            "\n"
          ]
        },
        {
          "output_type": "stream",
          "name": "stderr",
          "text": [
            "Train E25: 100%|██████████| 391/391 [00:52<00:00,  7.52it/s, acc=81.58%, loss=0.4129]\n"
          ]
        },
        {
          "output_type": "stream",
          "name": "stdout",
          "text": [
            "\n",
            "Val E25: loss=0.4202, acc=8548/10000 (85.48%)\n",
            "\n"
          ]
        },
        {
          "output_type": "stream",
          "name": "stderr",
          "text": [
            "Train E26: 100%|██████████| 391/391 [00:52<00:00,  7.43it/s, acc=81.69%, loss=0.5793]\n"
          ]
        },
        {
          "output_type": "stream",
          "name": "stdout",
          "text": [
            "\n",
            "Val E26: loss=0.4164, acc=8572/10000 (85.72%)\n",
            "\n"
          ]
        },
        {
          "output_type": "stream",
          "name": "stderr",
          "text": [
            "Train E27: 100%|██████████| 391/391 [00:52<00:00,  7.38it/s, acc=81.74%, loss=0.9158]\n"
          ]
        },
        {
          "output_type": "stream",
          "name": "stdout",
          "text": [
            "\n",
            "Val E27: loss=0.4112, acc=8586/10000 (85.86%)\n",
            "\n"
          ]
        },
        {
          "output_type": "stream",
          "name": "stderr",
          "text": [
            "Train E28: 100%|██████████| 391/391 [00:53<00:00,  7.29it/s, acc=81.97%, loss=0.6713]\n"
          ]
        },
        {
          "output_type": "stream",
          "name": "stdout",
          "text": [
            "\n",
            "Val E28: loss=0.4086, acc=8602/10000 (86.02%)\n",
            "\n"
          ]
        },
        {
          "output_type": "stream",
          "name": "stderr",
          "text": [
            "Train E29: 100%|██████████| 391/391 [00:52<00:00,  7.46it/s, acc=81.92%, loss=0.5758]\n"
          ]
        },
        {
          "output_type": "stream",
          "name": "stdout",
          "text": [
            "\n",
            "Val E29: loss=0.4135, acc=8571/10000 (85.71%)\n",
            "\n"
          ]
        },
        {
          "output_type": "stream",
          "name": "stderr",
          "text": [
            "Train E30: 100%|██████████| 391/391 [00:52<00:00,  7.48it/s, acc=82.07%, loss=0.6714]\n"
          ]
        },
        {
          "output_type": "stream",
          "name": "stdout",
          "text": [
            "\n",
            "Val E30: loss=0.4098, acc=8567/10000 (85.67%)\n",
            "\n"
          ]
        },
        {
          "output_type": "stream",
          "name": "stderr",
          "text": [
            "Train E31: 100%|██████████| 391/391 [00:51<00:00,  7.54it/s, acc=82.09%, loss=0.6191]\n"
          ]
        },
        {
          "output_type": "stream",
          "name": "stdout",
          "text": [
            "\n",
            "Val E31: loss=0.4078, acc=8605/10000 (86.05%)\n",
            "\n"
          ]
        },
        {
          "output_type": "stream",
          "name": "stderr",
          "text": [
            "Train E32: 100%|██████████| 391/391 [00:52<00:00,  7.47it/s, acc=82.30%, loss=0.7184]\n"
          ]
        },
        {
          "output_type": "stream",
          "name": "stdout",
          "text": [
            "\n",
            "Val E32: loss=0.4010, acc=8612/10000 (86.12%)\n",
            "\n"
          ]
        },
        {
          "output_type": "stream",
          "name": "stderr",
          "text": [
            "Train E33: 100%|██████████| 391/391 [00:52<00:00,  7.38it/s, acc=82.22%, loss=0.4766]\n"
          ]
        },
        {
          "output_type": "stream",
          "name": "stdout",
          "text": [
            "\n",
            "Val E33: loss=0.4008, acc=8610/10000 (86.10%)\n",
            "\n"
          ]
        },
        {
          "output_type": "stream",
          "name": "stderr",
          "text": [
            "Train E34: 100%|██████████| 391/391 [00:51<00:00,  7.56it/s, acc=82.35%, loss=0.5130]\n"
          ]
        },
        {
          "output_type": "stream",
          "name": "stdout",
          "text": [
            "\n",
            "Val E34: loss=0.3999, acc=8594/10000 (85.94%)\n",
            "\n"
          ]
        },
        {
          "output_type": "stream",
          "name": "stderr",
          "text": [
            "Train E35: 100%|██████████| 391/391 [00:51<00:00,  7.57it/s, acc=82.29%, loss=0.3701]\n"
          ]
        },
        {
          "output_type": "stream",
          "name": "stdout",
          "text": [
            "\n",
            "Val E35: loss=0.3949, acc=8627/10000 (86.27%)\n",
            "\n"
          ]
        },
        {
          "output_type": "stream",
          "name": "stderr",
          "text": [
            "Train E36: 100%|██████████| 391/391 [00:51<00:00,  7.53it/s, acc=82.42%, loss=0.6497]\n"
          ]
        },
        {
          "output_type": "stream",
          "name": "stdout",
          "text": [
            "\n",
            "Val E36: loss=0.3992, acc=8623/10000 (86.23%)\n",
            "\n"
          ]
        },
        {
          "output_type": "stream",
          "name": "stderr",
          "text": [
            "Train E37: 100%|██████████| 391/391 [00:52<00:00,  7.38it/s, acc=82.55%, loss=0.5194]\n"
          ]
        },
        {
          "output_type": "stream",
          "name": "stdout",
          "text": [
            "\n",
            "Val E37: loss=0.4021, acc=8577/10000 (85.77%)\n",
            "\n"
          ]
        },
        {
          "output_type": "stream",
          "name": "stderr",
          "text": [
            "Train E38: 100%|██████████| 391/391 [00:53<00:00,  7.34it/s, acc=82.76%, loss=0.5037]\n"
          ]
        },
        {
          "output_type": "stream",
          "name": "stdout",
          "text": [
            "\n",
            "Val E38: loss=0.4214, acc=8553/10000 (85.53%)\n",
            "\n"
          ]
        },
        {
          "output_type": "stream",
          "name": "stderr",
          "text": [
            "Train E39: 100%|██████████| 391/391 [00:52<00:00,  7.49it/s, acc=83.22%, loss=0.5413]\n"
          ]
        },
        {
          "output_type": "stream",
          "name": "stdout",
          "text": [
            "\n",
            "Val E39: loss=0.3797, acc=8692/10000 (86.92%)\n",
            "\n"
          ]
        },
        {
          "output_type": "stream",
          "name": "stderr",
          "text": [
            "Train E40: 100%|██████████| 391/391 [00:52<00:00,  7.52it/s, acc=83.53%, loss=0.7379]\n"
          ]
        },
        {
          "output_type": "stream",
          "name": "stdout",
          "text": [
            "\n",
            "Val E40: loss=0.3756, acc=8699/10000 (86.99%)\n",
            "\n"
          ]
        },
        {
          "output_type": "stream",
          "name": "stderr",
          "text": [
            "Train E41: 100%|██████████| 391/391 [00:52<00:00,  7.42it/s, acc=83.40%, loss=0.4570]\n"
          ]
        },
        {
          "output_type": "stream",
          "name": "stdout",
          "text": [
            "\n",
            "Val E41: loss=0.3757, acc=8686/10000 (86.86%)\n",
            "\n"
          ]
        },
        {
          "output_type": "stream",
          "name": "stderr",
          "text": [
            "Train E42: 100%|██████████| 391/391 [00:51<00:00,  7.56it/s, acc=83.58%, loss=0.5838]\n"
          ]
        },
        {
          "output_type": "stream",
          "name": "stdout",
          "text": [
            "\n",
            "Val E42: loss=0.3730, acc=8703/10000 (87.03%)\n",
            "\n"
          ]
        },
        {
          "output_type": "stream",
          "name": "stderr",
          "text": [
            "Train E43: 100%|██████████| 391/391 [00:53<00:00,  7.36it/s, acc=83.70%, loss=0.5344]\n"
          ]
        },
        {
          "output_type": "stream",
          "name": "stdout",
          "text": [
            "\n",
            "Val E43: loss=0.3741, acc=8709/10000 (87.09%)\n",
            "\n"
          ]
        },
        {
          "output_type": "stream",
          "name": "stderr",
          "text": [
            "Train E44: 100%|██████████| 391/391 [00:52<00:00,  7.38it/s, acc=83.78%, loss=0.4697]\n"
          ]
        },
        {
          "output_type": "stream",
          "name": "stdout",
          "text": [
            "\n",
            "Val E44: loss=0.3736, acc=8701/10000 (87.01%)\n",
            "\n"
          ]
        },
        {
          "output_type": "stream",
          "name": "stderr",
          "text": [
            "Train E45: 100%|██████████| 391/391 [00:51<00:00,  7.52it/s, acc=83.96%, loss=0.5499]\n"
          ]
        },
        {
          "output_type": "stream",
          "name": "stdout",
          "text": [
            "\n",
            "Val E45: loss=0.3729, acc=8722/10000 (87.22%)\n",
            "\n"
          ]
        },
        {
          "output_type": "stream",
          "name": "stderr",
          "text": [
            "Train E46: 100%|██████████| 391/391 [00:53<00:00,  7.36it/s, acc=83.84%, loss=0.4734]\n"
          ]
        },
        {
          "output_type": "stream",
          "name": "stdout",
          "text": [
            "\n",
            "Val E46: loss=0.3734, acc=8712/10000 (87.12%)\n",
            "\n"
          ]
        },
        {
          "output_type": "stream",
          "name": "stderr",
          "text": [
            "Train E47: 100%|██████████| 391/391 [00:54<00:00,  7.20it/s, acc=83.89%, loss=0.4975]\n"
          ]
        },
        {
          "output_type": "stream",
          "name": "stdout",
          "text": [
            "\n",
            "Val E47: loss=0.3753, acc=8728/10000 (87.28%)\n",
            "\n"
          ]
        },
        {
          "output_type": "stream",
          "name": "stderr",
          "text": [
            "Train E48: 100%|██████████| 391/391 [00:53<00:00,  7.35it/s, acc=83.99%, loss=0.4839]\n"
          ]
        },
        {
          "output_type": "stream",
          "name": "stdout",
          "text": [
            "\n",
            "Val E48: loss=0.3723, acc=8725/10000 (87.25%)\n",
            "\n"
          ]
        },
        {
          "output_type": "stream",
          "name": "stderr",
          "text": [
            "Train E49: 100%|██████████| 391/391 [00:51<00:00,  7.54it/s, acc=83.72%, loss=0.5220]\n"
          ]
        },
        {
          "output_type": "stream",
          "name": "stdout",
          "text": [
            "\n",
            "Val E49: loss=0.3718, acc=8713/10000 (87.13%)\n",
            "\n"
          ]
        },
        {
          "output_type": "stream",
          "name": "stderr",
          "text": [
            "Train E50: 100%|██████████| 391/391 [00:52<00:00,  7.50it/s, acc=83.98%, loss=0.5869]\n"
          ]
        },
        {
          "output_type": "stream",
          "name": "stdout",
          "text": [
            "\n",
            "Val E50: loss=0.3716, acc=8731/10000 (87.31%)\n",
            "\n",
            "Loaded best model (early stopping). Best val loss: 0.3716\n"
          ]
        }
      ]
    }
  ]
}